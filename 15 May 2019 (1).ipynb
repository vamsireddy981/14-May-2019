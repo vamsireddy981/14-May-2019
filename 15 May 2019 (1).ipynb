{
 "cells": [
  {
   "cell_type": "markdown",
   "metadata": {},
   "source": [
    "# Problem Solving and Programming\n",
    "## Day-17\n",
    "## Date-15 may"
   ]
  },
  {
   "cell_type": "markdown",
   "metadata": {},
   "source": [
    "### Day outcomes\n",
    "    *objective 1\n",
    "    *objective 2\n",
    "    *objective 3"
   ]
  },
  {
   "cell_type": "markdown",
   "metadata": {},
   "source": [
    "### Problem 1:\n",
    "#### Problem Statement\n",
    "#### Constraints\n",
    "\n",
    "### Test cases\n",
    "    *testcase 1\n",
    "    *testcase 2\n",
    "    *testcase 3\n",
    "   \n",
    "    "
   ]
  },
  {
   "cell_type": "code",
   "execution_count": null,
   "metadata": {},
   "outputs": [],
   "source": [
    "import PythonScripts.Day17\n",
    "\n",
    "PythonScripts.Day17.factorial(5)\n"
   ]
  },
  {
   "cell_type": "markdown",
   "metadata": {},
   "source": [
    "## Regular Expressions"
   ]
  },
  {
   "cell_type": "markdown",
   "metadata": {},
   "source": [
    "### Pincode Validation"
   ]
  },
  {
   "cell_type": "code",
   "execution_count": null,
   "metadata": {},
   "outputs": [],
   "source": [
    "\n",
    "import re\n",
    "pattern = '^[0-9]{3,9}$'\n",
    "domain = '296264'\n",
    "if re.match(pattern, domain):\n",
    "    print('Match')\n",
    "else:\n",
    "    print('Does not match')"
   ]
  },
  {
   "cell_type": "markdown",
   "metadata": {},
   "source": [
    "### Phone number Validation"
   ]
  },
  {
   "cell_type": "code",
   "execution_count": null,
   "metadata": {},
   "outputs": [],
   "source": [
    "import re\n",
    "pattern = '^[1-9][0-9]{5}$'\n",
    "domain = '905260'\n",
    "if re.match(pattern, domain ):\n",
    "    print('Match')\n",
    "else:\n",
    "    print('Does not match')"
   ]
  },
  {
   "cell_type": "code",
   "execution_count": null,
   "metadata": {},
   "outputs": [],
   "source": [
    "import re\n",
    "pattern = '^[+][9][1][ ][6-9][0-9]{9}$'\n",
    "domain = '+91 905260123'\n",
    "if re.match(pattern, domain ):\n",
    "    print('Match')\n",
    "else:\n",
    "    print('Does not match')"
   ]
  },
  {
   "cell_type": "markdown",
   "metadata": {},
   "source": [
    "### gmail Validation"
   ]
  },
  {
   "cell_type": "code",
   "execution_count": null,
   "metadata": {},
   "outputs": [],
   "source": [
    "import re\n",
    "pattern = '^[a-z0-9]{1,10}[0-9]{1,3}[@][a-z]{1,5}[.][a-z]{1,3}$'\n",
    "domain = 'vamsi123@gmail.com'\n",
    "if re.match(pattern, domain ):\n",
    "    print('Match')\n",
    "else:\n",
    "    print('Does not match')"
   ]
  },
  {
   "cell_type": "code",
   "execution_count": null,
   "metadata": {},
   "outputs": [],
   "source": []
  },
  {
   "cell_type": "markdown",
   "metadata": {},
   "source": [
    "# Problem 1:\n",
    "#### Problem Statement\n",
    "Checking od stong password\n",
    "\n",
    "#### Constraints \n",
    "* should contain atleast one uppercase letter\n",
    "* length in the range (6,21)\n",
    "* should contain atleast one specialcase character\n",
    "* should start witn uppercase or lowercase\n",
    "* should contain atleast one digit\n",
    "\n",
    "### Test cases\n",
    "    *testcase 1\n",
    "    *testcase 2\n",
    "    *testcase 3\n",
    "   "
   ]
  },
  {
   "cell_type": "code",
   "execution_count": null,
   "metadata": {},
   "outputs": [],
   "source": [
    "#Password validation\n",
    "import re\n",
    "pattern = '^[a-zA-Z][a-zA-Z0-9]{6,21}$'\n",
    "domain = 'vamsi123@gmail.com'\n",
    "if re.match(pattern, domain ):\n",
    "    print('Match')\n",
    "else:\n",
    "    print('Does not match')"
   ]
  },
  {
   "cell_type": "code",
   "execution_count": null,
   "metadata": {},
   "outputs": [],
   "source": []
  },
  {
   "cell_type": "markdown",
   "metadata": {},
   "source": [
    "### Iterators in python\n"
   ]
  },
  {
   "cell_type": "code",
   "execution_count": null,
   "metadata": {},
   "outputs": [],
   "source": [
    "li=[1,2,3,4,5]\n",
    "\n",
    "for i in li:\n",
    "    print(i)\n",
    "type(li)\n",
    "it=iter(li)\n",
    "type(it)\n",
    "for i in li:\n",
    "    print(i)"
   ]
  },
  {
   "cell_type": "markdown",
   "metadata": {},
   "source": [
    "### Generators in python"
   ]
  },
  {
   "cell_type": "code",
   "execution_count": null,
   "metadata": {},
   "outputs": [],
   "source": [
    "li=[i**3 for i in range(1,13)]\n",
    "li\n",
    "gn=[i**3 for i in range(1,13)]\n",
    "gn\n",
    "for i in gn:\n",
    "    print(i,end=' ') \n",
    "    "
   ]
  },
  {
   "cell_type": "code",
   "execution_count": null,
   "metadata": {},
   "outputs": [],
   "source": []
  }
 ],
 "metadata": {
  "kernelspec": {
   "display_name": "Python 3",
   "language": "python",
   "name": "python3"
  },
  "language_info": {
   "codemirror_mode": {
    "name": "ipython",
    "version": 3
   },
   "file_extension": ".py",
   "mimetype": "text/x-python",
   "name": "python",
   "nbconvert_exporter": "python",
   "pygments_lexer": "ipython3",
   "version": "3.7.3"
  }
 },
 "nbformat": 4,
 "nbformat_minor": 2
}
